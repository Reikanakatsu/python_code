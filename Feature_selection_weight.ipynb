{
 "cells": [
  {
   "cell_type": "code",
   "execution_count": 1,
   "id": "3a3565f7",
   "metadata": {
    "id": "3a3565f7"
   },
   "outputs": [],
   "source": [
    "import pandas as pd\n",
    "import numpy as np "
   ]
  },
  {
   "cell_type": "code",
   "execution_count": 2,
   "id": "3750476f",
   "metadata": {
    "id": "3750476f",
    "outputId": "accd493b-f6b7-4f32-c8e0-1739fc99c442"
   },
   "outputs": [
    {
     "data": {
      "text/plain": [
       "Index(['sale_id', 'sale_date', 'ad_exp', 'sns', 'product_id', 'product_brand',\n",
       "       'product_name', 'price', 'qty', 'customer_id', 'gender', 'city', 'st',\n",
       "       'zip', 'lat', 'lng', 'marital', 'education', 'income', 'age', 'prime'],\n",
       "      dtype='object')"
      ]
     },
     "execution_count": 2,
     "metadata": {},
     "output_type": "execute_result"
    }
   ],
   "source": [
    "df = pd.read_csv('Columbia_Hackathon_Data_Dogfood.csv')\n",
    "\n",
    "df.columns"
   ]
  },
  {
   "cell_type": "code",
   "execution_count": 3,
   "id": "4c9bdda5",
   "metadata": {
    "id": "4c9bdda5"
   },
   "outputs": [],
   "source": [
    "df[\"total_amount\"] = df[\"price\"] * df[\"qty\"]\n",
    "# features = ['ad_exp', 'gender','marital', 'education', 'income', 'age', 'prime'] # didn't include state (too many level) and sns (negative coefficient)\n",
    "features = ['ad_exp', 'income', 'age']"
   ]
  },
  {
   "cell_type": "markdown",
   "id": "b76fb88e",
   "metadata": {
    "id": "b76fb88e"
   },
   "source": [
    "## 1. Lasso Regression for Feature Selection"
   ]
  },
  {
   "cell_type": "code",
   "execution_count": null,
   "id": "3900e4b4",
   "metadata": {
    "id": "3900e4b4"
   },
   "outputs": [],
   "source": [
    "# from sklearn.preprocessing import StandardScaler\n",
    "# from sklearn.pipeline import Pipeline\n",
    "# from sklearn.model_selection import train_test_split, GridSearchCV\n",
    "# from sklearn.linear_model import Lasso\n",
    "\n",
    "# X = df[features]\n",
    "# X = pd.get_dummies(X)\n",
    "# y = df[\"total_amount\"]"
   ]
  },
  {
   "cell_type": "code",
   "execution_count": 162,
   "id": "b1d5b415",
   "metadata": {
    "id": "b1d5b415",
    "outputId": "141e3c70-a43a-494e-d460-736bd2d82a8b"
   },
   "outputs": [],
   "source": [
    "# # Split the data (Don't think we need to)\n",
    "# #X_train, X_test, y_train, y_test = train_test_split(X, y, test_size=0.2, random_state=42)\n",
    "\n",
    "# # Create pipeline\n",
    "# pipeline = Pipeline([\n",
    "#                      ('scaler',StandardScaler()),\n",
    "#                      ('model',Lasso())\n",
    "# ])\n",
    "\n",
    "# # Grid search\n",
    "# search = GridSearchCV(pipeline,\n",
    "#                       {'model__alpha':np.arange(0.1,10,0.1)},\n",
    "#                       cv = 5, scoring=\"neg_mean_squared_error\",verbose=0\n",
    "#                       )\n",
    "# # Fit the grid search\n",
    "# search.fit(X,y)\n",
    "# print(\"Best parameter:\", search.best_params_)\n",
    "\n",
    "# # Extract coefficients\n",
    "# coefficients = search.best_estimator_.named_steps['model'].coef_\n",
    "# # Convert to absolute numbers\n",
    "# importance = np.abs(coefficients)\n",
    "# # Significant features\n",
    "# np.array(X.columns)[importance > 0]"
   ]
  },
  {
   "cell_type": "markdown",
   "id": "a57d8df2",
   "metadata": {
    "id": "a57d8df2"
   },
   "source": [
    "## 2. Weights"
   ]
  },
  {
   "cell_type": "markdown",
   "id": "dbfa8f7e",
   "metadata": {
    "id": "dbfa8f7e"
   },
   "source": [
    "### 2.1 Linear Regression"
   ]
  },
  {
   "cell_type": "code",
   "execution_count": 4,
   "id": "10a6f054",
   "metadata": {
    "id": "10a6f054",
    "outputId": "394460d3-87ab-4a74-97f6-3388011a2036"
   },
   "outputs": [
    {
     "data": {
      "text/html": [
       "<div>\n",
       "<style scoped>\n",
       "    .dataframe tbody tr th:only-of-type {\n",
       "        vertical-align: middle;\n",
       "    }\n",
       "\n",
       "    .dataframe tbody tr th {\n",
       "        vertical-align: top;\n",
       "    }\n",
       "\n",
       "    .dataframe thead th {\n",
       "        text-align: right;\n",
       "    }\n",
       "</style>\n",
       "<table border=\"1\" class=\"dataframe\">\n",
       "  <thead>\n",
       "    <tr style=\"text-align: right;\">\n",
       "      <th></th>\n",
       "      <th>features_group</th>\n",
       "      <th>features</th>\n",
       "      <th>coef</th>\n",
       "    </tr>\n",
       "  </thead>\n",
       "  <tbody>\n",
       "    <tr>\n",
       "      <th>0</th>\n",
       "      <td>ad_exp</td>\n",
       "      <td>ad_exp_Don't recall seeing an ad</td>\n",
       "      <td>11.220384</td>\n",
       "    </tr>\n",
       "    <tr>\n",
       "      <th>1</th>\n",
       "      <td>ad_exp</td>\n",
       "      <td>ad_exp_Some other type of ad</td>\n",
       "      <td>20.261414</td>\n",
       "    </tr>\n",
       "    <tr>\n",
       "      <th>2</th>\n",
       "      <td>ad_exp</td>\n",
       "      <td>ad_exp_Sponsored Brands</td>\n",
       "      <td>11.738680</td>\n",
       "    </tr>\n",
       "    <tr>\n",
       "      <th>3</th>\n",
       "      <td>ad_exp</td>\n",
       "      <td>ad_exp_Sponsored Products</td>\n",
       "      <td>11.596665</td>\n",
       "    </tr>\n",
       "    <tr>\n",
       "      <th>4</th>\n",
       "      <td>ad_exp</td>\n",
       "      <td>ad_exp_Video ad</td>\n",
       "      <td>13.628577</td>\n",
       "    </tr>\n",
       "    <tr>\n",
       "      <th>5</th>\n",
       "      <td>income</td>\n",
       "      <td>income_$20,000 - $39,999</td>\n",
       "      <td>6.032076</td>\n",
       "    </tr>\n",
       "    <tr>\n",
       "      <th>6</th>\n",
       "      <td>income</td>\n",
       "      <td>income_$40,000 - $59,999</td>\n",
       "      <td>5.755871</td>\n",
       "    </tr>\n",
       "    <tr>\n",
       "      <th>7</th>\n",
       "      <td>income</td>\n",
       "      <td>income_$60,000 - $79,999</td>\n",
       "      <td>4.088945</td>\n",
       "    </tr>\n",
       "    <tr>\n",
       "      <th>8</th>\n",
       "      <td>income</td>\n",
       "      <td>income_$80,000 - $99,999</td>\n",
       "      <td>4.398496</td>\n",
       "    </tr>\n",
       "    <tr>\n",
       "      <th>9</th>\n",
       "      <td>income</td>\n",
       "      <td>income_Less than $20,000</td>\n",
       "      <td>3.990224</td>\n",
       "    </tr>\n",
       "    <tr>\n",
       "      <th>10</th>\n",
       "      <td>age</td>\n",
       "      <td>age_25-34</td>\n",
       "      <td>27.744825</td>\n",
       "    </tr>\n",
       "    <tr>\n",
       "      <th>11</th>\n",
       "      <td>age</td>\n",
       "      <td>age_35-44</td>\n",
       "      <td>29.296277</td>\n",
       "    </tr>\n",
       "    <tr>\n",
       "      <th>12</th>\n",
       "      <td>age</td>\n",
       "      <td>age_45-54</td>\n",
       "      <td>29.216891</td>\n",
       "    </tr>\n",
       "    <tr>\n",
       "      <th>13</th>\n",
       "      <td>age</td>\n",
       "      <td>age_55-64</td>\n",
       "      <td>28.117807</td>\n",
       "    </tr>\n",
       "    <tr>\n",
       "      <th>14</th>\n",
       "      <td>age</td>\n",
       "      <td>age_65+</td>\n",
       "      <td>30.439406</td>\n",
       "    </tr>\n",
       "  </tbody>\n",
       "</table>\n",
       "</div>"
      ],
      "text/plain": [
       "   features_group                          features       coef\n",
       "0          ad_exp  ad_exp_Don't recall seeing an ad  11.220384\n",
       "1          ad_exp      ad_exp_Some other type of ad  20.261414\n",
       "2          ad_exp           ad_exp_Sponsored Brands  11.738680\n",
       "3          ad_exp         ad_exp_Sponsored Products  11.596665\n",
       "4          ad_exp                   ad_exp_Video ad  13.628577\n",
       "5          income          income_$20,000 - $39,999   6.032076\n",
       "6          income          income_$40,000 - $59,999   5.755871\n",
       "7          income          income_$60,000 - $79,999   4.088945\n",
       "8          income          income_$80,000 - $99,999   4.398496\n",
       "9          income          income_Less than $20,000   3.990224\n",
       "10            age                         age_25-34  27.744825\n",
       "11            age                         age_35-44  29.296277\n",
       "12            age                         age_45-54  29.216891\n",
       "13            age                         age_55-64  28.117807\n",
       "14            age                           age_65+  30.439406"
      ]
     },
     "execution_count": 4,
     "metadata": {},
     "output_type": "execute_result"
    }
   ],
   "source": [
    "# One-hot encoder\n",
    "X = df[features]\n",
    "X = pd.get_dummies(X, drop_first = True)\n",
    "y = df[\"total_amount\"]\n",
    "\n",
    "# Fit linear regression from one-hot encoder\n",
    "from sklearn.linear_model import LinearRegression\n",
    "reg = LinearRegression(fit_intercept = False).fit(X, y)\n",
    "coef = pd.DataFrame(X.columns)\n",
    "coef[\"coef\"] = reg.coef_\n",
    "coef.columns = [\"features\",\"coef\"]\n",
    "\n",
    "# Create feature group\n",
    "def feature_group(text):\n",
    "    result = text\n",
    "    for feature in features:\n",
    "        if feature in text:\n",
    "            result = feature\n",
    "            break\n",
    "    return result\n",
    "coef[\"features_group\"] = coef[\"features\"].apply(feature_group)\n",
    "coef = coef[[\"features_group\",\"features\",\"coef\"]]\n",
    "coef"
   ]
  },
  {
   "cell_type": "code",
   "execution_count": 5,
   "id": "48f99de8",
   "metadata": {
    "id": "48f99de8",
    "outputId": "9bb5cf66-ea04-4066-af20-9973aa3dcbdf"
   },
   "outputs": [
    {
     "data": {
      "text/html": [
       "<div>\n",
       "<style scoped>\n",
       "    .dataframe tbody tr th:only-of-type {\n",
       "        vertical-align: middle;\n",
       "    }\n",
       "\n",
       "    .dataframe tbody tr th {\n",
       "        vertical-align: top;\n",
       "    }\n",
       "\n",
       "    .dataframe thead th {\n",
       "        text-align: right;\n",
       "    }\n",
       "</style>\n",
       "<table border=\"1\" class=\"dataframe\">\n",
       "  <thead>\n",
       "    <tr style=\"text-align: right;\">\n",
       "      <th></th>\n",
       "      <th>features_group</th>\n",
       "      <th>coef</th>\n",
       "    </tr>\n",
       "  </thead>\n",
       "  <tbody>\n",
       "    <tr>\n",
       "      <th>0</th>\n",
       "      <td>ad_exp</td>\n",
       "      <td>0.28816</td>\n",
       "    </tr>\n",
       "    <tr>\n",
       "      <th>1</th>\n",
       "      <td>age</td>\n",
       "      <td>0.60968</td>\n",
       "    </tr>\n",
       "    <tr>\n",
       "      <th>2</th>\n",
       "      <td>income</td>\n",
       "      <td>0.10216</td>\n",
       "    </tr>\n",
       "  </tbody>\n",
       "</table>\n",
       "</div>"
      ],
      "text/plain": [
       "  features_group     coef\n",
       "0         ad_exp  0.28816\n",
       "1            age  0.60968\n",
       "2         income  0.10216"
      ]
     },
     "execution_count": 5,
     "metadata": {},
     "output_type": "execute_result"
    }
   ],
   "source": [
    "# Average coeeficient and normalize\n",
    "weight = pd.DataFrame(coef.groupby(\"features_group\").mean() / coef.groupby(\"features_group\").mean().sum()).reset_index()\n",
    "weight\n"
   ]
  },
  {
   "cell_type": "markdown",
   "id": "a93606ea",
   "metadata": {
    "id": "a93606ea"
   },
   "source": [
    "### 2.2 Decision Tree"
   ]
  },
  {
   "cell_type": "code",
   "execution_count": 6,
   "id": "bd0259c7",
   "metadata": {
    "id": "bd0259c7",
    "outputId": "cb0ac39e-f3e4-4d59-ff3c-ca1a5911db74"
   },
   "outputs": [],
   "source": [
    "# # Decision tree\n",
    "from sklearn.tree import DecisionTreeRegressor\n",
    "regressor = DecisionTreeRegressor(random_state=123)\n",
    "\n",
    "# # Grid search\n",
    "# from sklearn.model_selection import train_test_split, GridSearchCV\n",
    "# tree_para = {'criterion':[\"squared_error\", \"friedman_mse\", \"absolute_error\", \"poisson\"],\n",
    "#              'max_depth':[2,4,5,6,7,8,9,10,11,12,15,20,30,40,50,70,90,120,150],\n",
    "#              'min_samples_split':[2,4,5,6,7,8,9,10,11,12,15,20,30,40,50,70,90,120,150]\n",
    "#             }\n",
    "\n",
    "# search = GridSearchCV(regressor,\n",
    "#                       tree_para,\n",
    "#                       cv = 5, \n",
    "#                       scoring=\"neg_root_mean_squared_error\",\n",
    "#                       verbose=0\n",
    "#                       )\n",
    "# # Fit the grid search\n",
    "# search.fit(X,y)\n",
    "# print(\"Best parameter:\", search.best_params_)"
   ]
  },
  {
   "cell_type": "code",
   "execution_count": 7,
   "id": "305f2ea5",
   "metadata": {
    "id": "305f2ea5",
    "outputId": "a4967e87-fdb9-4f28-c969-be52684c9fd3"
   },
   "outputs": [
    {
     "data": {
      "text/html": [
       "<div>\n",
       "<style scoped>\n",
       "    .dataframe tbody tr th:only-of-type {\n",
       "        vertical-align: middle;\n",
       "    }\n",
       "\n",
       "    .dataframe tbody tr th {\n",
       "        vertical-align: top;\n",
       "    }\n",
       "\n",
       "    .dataframe thead th {\n",
       "        text-align: right;\n",
       "    }\n",
       "</style>\n",
       "<table border=\"1\" class=\"dataframe\">\n",
       "  <thead>\n",
       "    <tr style=\"text-align: right;\">\n",
       "      <th></th>\n",
       "      <th>features_group</th>\n",
       "      <th>features</th>\n",
       "      <th>importance</th>\n",
       "    </tr>\n",
       "  </thead>\n",
       "  <tbody>\n",
       "    <tr>\n",
       "      <th>0</th>\n",
       "      <td>ad_exp</td>\n",
       "      <td>ad_exp_Don't recall seeing an ad</td>\n",
       "      <td>0.026885</td>\n",
       "    </tr>\n",
       "    <tr>\n",
       "      <th>1</th>\n",
       "      <td>ad_exp</td>\n",
       "      <td>ad_exp_Some other type of ad</td>\n",
       "      <td>0.058081</td>\n",
       "    </tr>\n",
       "    <tr>\n",
       "      <th>2</th>\n",
       "      <td>ad_exp</td>\n",
       "      <td>ad_exp_Sponsored Brands</td>\n",
       "      <td>0.000000</td>\n",
       "    </tr>\n",
       "    <tr>\n",
       "      <th>3</th>\n",
       "      <td>ad_exp</td>\n",
       "      <td>ad_exp_Sponsored Products</td>\n",
       "      <td>0.027250</td>\n",
       "    </tr>\n",
       "    <tr>\n",
       "      <th>4</th>\n",
       "      <td>ad_exp</td>\n",
       "      <td>ad_exp_Video ad</td>\n",
       "      <td>0.179834</td>\n",
       "    </tr>\n",
       "    <tr>\n",
       "      <th>5</th>\n",
       "      <td>income</td>\n",
       "      <td>income_$20,000 - $39,999</td>\n",
       "      <td>0.056094</td>\n",
       "    </tr>\n",
       "    <tr>\n",
       "      <th>6</th>\n",
       "      <td>income</td>\n",
       "      <td>income_$40,000 - $59,999</td>\n",
       "      <td>0.033600</td>\n",
       "    </tr>\n",
       "    <tr>\n",
       "      <th>7</th>\n",
       "      <td>income</td>\n",
       "      <td>income_$60,000 - $79,999</td>\n",
       "      <td>0.000000</td>\n",
       "    </tr>\n",
       "    <tr>\n",
       "      <th>8</th>\n",
       "      <td>income</td>\n",
       "      <td>income_$80,000 - $99,999</td>\n",
       "      <td>0.065654</td>\n",
       "    </tr>\n",
       "    <tr>\n",
       "      <th>9</th>\n",
       "      <td>income</td>\n",
       "      <td>income_Less than $20,000</td>\n",
       "      <td>0.108798</td>\n",
       "    </tr>\n",
       "    <tr>\n",
       "      <th>10</th>\n",
       "      <td>age</td>\n",
       "      <td>age_25-34</td>\n",
       "      <td>0.091567</td>\n",
       "    </tr>\n",
       "    <tr>\n",
       "      <th>11</th>\n",
       "      <td>age</td>\n",
       "      <td>age_35-44</td>\n",
       "      <td>0.000000</td>\n",
       "    </tr>\n",
       "    <tr>\n",
       "      <th>12</th>\n",
       "      <td>age</td>\n",
       "      <td>age_45-54</td>\n",
       "      <td>0.059996</td>\n",
       "    </tr>\n",
       "    <tr>\n",
       "      <th>13</th>\n",
       "      <td>age</td>\n",
       "      <td>age_55-64</td>\n",
       "      <td>0.100717</td>\n",
       "    </tr>\n",
       "    <tr>\n",
       "      <th>14</th>\n",
       "      <td>age</td>\n",
       "      <td>age_65+</td>\n",
       "      <td>0.191523</td>\n",
       "    </tr>\n",
       "  </tbody>\n",
       "</table>\n",
       "</div>"
      ],
      "text/plain": [
       "   features_group                          features  importance\n",
       "0          ad_exp  ad_exp_Don't recall seeing an ad    0.026885\n",
       "1          ad_exp      ad_exp_Some other type of ad    0.058081\n",
       "2          ad_exp           ad_exp_Sponsored Brands    0.000000\n",
       "3          ad_exp         ad_exp_Sponsored Products    0.027250\n",
       "4          ad_exp                   ad_exp_Video ad    0.179834\n",
       "5          income          income_$20,000 - $39,999    0.056094\n",
       "6          income          income_$40,000 - $59,999    0.033600\n",
       "7          income          income_$60,000 - $79,999    0.000000\n",
       "8          income          income_$80,000 - $99,999    0.065654\n",
       "9          income          income_Less than $20,000    0.108798\n",
       "10            age                         age_25-34    0.091567\n",
       "11            age                         age_35-44    0.000000\n",
       "12            age                         age_45-54    0.059996\n",
       "13            age                         age_55-64    0.100717\n",
       "14            age                           age_65+    0.191523"
      ]
     },
     "execution_count": 7,
     "metadata": {},
     "output_type": "execute_result"
    }
   ],
   "source": [
    "# Fit the model with best parameters\n",
    "# regressor = DecisionTreeRegressor(random_state=123,\n",
    "#                                 criterion = search.best_params_['criterion'],\n",
    "#                                  max_depth = search.best_params_['max_depth'],\n",
    "#                                  min_samples_split = search.best_params_['min_samples_split'])\n",
    "\n",
    "regressor = DecisionTreeRegressor(random_state=123,\n",
    "                                criterion = 'poisson',\n",
    "                                 max_depth = 4,\n",
    "                                 min_samples_split = 90)\n",
    "regressor.fit(X,y)\n",
    "\n",
    "# Extract Feature Importance\n",
    "weight = pd.DataFrame({\"features\":regressor.feature_names_in_,\n",
    "             \"importance\":regressor.feature_importances_})\n",
    "weight[\"features_group\"] = weight[\"features\"].apply(feature_group)\n",
    "weight = weight[[\"features_group\",\"features\",\"importance\"]]\n",
    "weight\n",
    "\n"
   ]
  },
  {
   "cell_type": "code",
   "execution_count": 8,
   "id": "c986a8fc",
   "metadata": {
    "id": "c986a8fc",
    "outputId": "bc26ed10-1ac6-4fb4-eb31-70c7191e03d8"
   },
   "outputs": [
    {
     "data": {
      "text/html": [
       "<div>\n",
       "<style scoped>\n",
       "    .dataframe tbody tr th:only-of-type {\n",
       "        vertical-align: middle;\n",
       "    }\n",
       "\n",
       "    .dataframe tbody tr th {\n",
       "        vertical-align: top;\n",
       "    }\n",
       "\n",
       "    .dataframe thead th {\n",
       "        text-align: right;\n",
       "    }\n",
       "</style>\n",
       "<table border=\"1\" class=\"dataframe\">\n",
       "  <thead>\n",
       "    <tr style=\"text-align: right;\">\n",
       "      <th></th>\n",
       "      <th>features_group</th>\n",
       "      <th>importance</th>\n",
       "    </tr>\n",
       "  </thead>\n",
       "  <tbody>\n",
       "    <tr>\n",
       "      <th>0</th>\n",
       "      <td>ad_exp</td>\n",
       "      <td>0.292050</td>\n",
       "    </tr>\n",
       "    <tr>\n",
       "      <th>1</th>\n",
       "      <td>age</td>\n",
       "      <td>0.443804</td>\n",
       "    </tr>\n",
       "    <tr>\n",
       "      <th>2</th>\n",
       "      <td>income</td>\n",
       "      <td>0.264146</td>\n",
       "    </tr>\n",
       "  </tbody>\n",
       "</table>\n",
       "</div>"
      ],
      "text/plain": [
       "  features_group  importance\n",
       "0         ad_exp    0.292050\n",
       "1            age    0.443804\n",
       "2         income    0.264146"
      ]
     },
     "execution_count": 8,
     "metadata": {},
     "output_type": "execute_result"
    }
   ],
   "source": [
    "# Sum by feature group\n",
    "weight = weight.groupby(\"features_group\")[\"importance\"].sum().reset_index()\n",
    "weight = weight[weight[\"importance\"] > 0].reset_index(drop = True)\n",
    "weight"
   ]
  },
  {
   "cell_type": "code",
   "execution_count": 9,
   "id": "8fdcf783",
   "metadata": {
    "id": "8fdcf783",
    "outputId": "917f0282-4553-4e2d-e251-5c40cee73904"
   },
   "outputs": [
    {
     "data": {
      "text/plain": [
       "{'ad_exp': 0.29205024407666136,\n",
       " 'age': 0.44380397014767203,\n",
       " 'income': 0.2641457857756668}"
      ]
     },
     "execution_count": 9,
     "metadata": {},
     "output_type": "execute_result"
    }
   ],
   "source": [
    "# Change to dict\n",
    "weight_dict = dict()\n",
    "for i in range(len(weight)):\n",
    "    weight_dict[weight.loc[i,\"features_group\"]] = weight.loc[i,\"importance\"]\n",
    "\n",
    "weight_dict"
   ]
  },
  {
   "cell_type": "markdown",
   "id": "7c124d99",
   "metadata": {
    "id": "7c124d99"
   },
   "source": [
    "## 3. Scores"
   ]
  },
  {
   "cell_type": "code",
   "execution_count": 10,
   "id": "04d1ce1e",
   "metadata": {
    "id": "04d1ce1e"
   },
   "outputs": [],
   "source": [
    "# Calculate feature score for each brand\n",
    "#brands = [\"Alpha\", \"Bezt\", \"Arf\", \"Health One\", \"Choice\"]\n",
    "brands = list(df[\"product_brand\"].unique())\n",
    "features = [\"ad_exp\",\"age\",\"income\"]\n",
    "\n",
    "brand_score = dict()\n",
    "for brand in brands:\n",
    "    # Run a linear regression for each brand\n",
    "    df_brand = df[df[\"product_brand\"] == brand]\n",
    "    X = df_brand[features]\n",
    "    X = pd.get_dummies(X, drop_first = True)\n",
    "    y = df_brand[\"total_amount\"]\n",
    "    reg = LinearRegression(fit_intercept = False).fit(X, y)\n",
    "    coef = pd.DataFrame(X.columns)\n",
    "    coef[\"coef\"] = reg.coef_\n",
    "    coef.columns = [\"features\",\"coef\"]\n",
    "    coef[\"features_group\"] = coef[\"features\"].apply(feature_group)\n",
    "    coef = coef[[\"features_group\",\"features\",\"coef\"]]\n",
    "    \n",
    "    # Extract coefficients and scale\n",
    "    feature_dict = dict()\n",
    "    for feature in features:\n",
    "        if feature in [\"prime\",\"sns\"]:\n",
    "            value_dict = dict()\n",
    "            binary_coef = coef[coef[\"features_group\"] == \"prime\"].iloc[:,-1][0]\n",
    "            if binary_coef > 0:\n",
    "                value_dict[1] = 1\n",
    "                value_dict[0] = 0\n",
    "            else:\n",
    "                value_dict[1] = 0\n",
    "                value_dict[0] = 1\n",
    "\n",
    "        else:\n",
    "            select_coef = coef[coef[\"features_group\"] == feature].iloc[:,1:]\n",
    "            dummy_level = [] \n",
    "            for level in select_coef[\"features\"].to_list():\n",
    "                dummy_level.append(level.replace(feature+\"_\",\"\"))\n",
    "            all_value = df[feature].unique()\n",
    "            dropped = [w for w in all_value if w not in dummy_level][0]\n",
    "            all_coef = pd.DataFrame({\"level\":dummy_level + [dropped],\n",
    "                                \"coef\":list(coef[coef[\"features_group\"] == feature].iloc[:,-1]) + [0]})\n",
    "            max_ = np.max(all_coef[\"coef\"])\n",
    "            min_ = np.min(all_coef[\"coef\"])\n",
    "            scaled_coef = []\n",
    "            for item in all_coef[\"coef\"]:\n",
    "                scaled_coef.append((item - min_)/(max_ - min_))\n",
    "            value_dict = dict()\n",
    "            for i in range(len(all_coef)):\n",
    "                value_dict[all_coef[\"level\"][i]] = scaled_coef[i]\n",
    "        feature_dict[feature] = value_dict\n",
    "    \n",
    "    brand_score[brand] = feature_dict\n",
    "\n",
    "\n"
   ]
  },
  {
   "cell_type": "code",
   "execution_count": 11,
   "id": "6bb47485",
   "metadata": {
    "id": "6bb47485",
    "outputId": "db23342e-735a-4367-8ec5-aa9c86d17c37"
   },
   "outputs": [
    {
     "data": {
      "text/plain": [
       "{'ad_exp': {\"Don't recall seeing an ad\": 0.5350588844970363,\n",
       "  'Some other type of ad': 1.0,\n",
       "  'Sponsored Brands': 0.5277640227755558,\n",
       "  'Sponsored Products': 0.5815754107510374,\n",
       "  'Video ad': 0.4009709936599937,\n",
       "  'Display/banner ad': 0.0},\n",
       " 'age': {'25-34': 0.8002892226342878,\n",
       "  '35-44': 0.9150270465619798,\n",
       "  '45-54': 0.8925638849940775,\n",
       "  '55-64': 0.866218119351058,\n",
       "  '65+': 1.0,\n",
       "  '18-24': 0.0},\n",
       " 'income': {'$20,000 - $39,999': 0.581658949652101,\n",
       "  '$40,000 - $59,999': 1.0,\n",
       "  '$60,000 - $79,999': 0.19467062400833704,\n",
       "  '$80,000 - $99,999': 0.16766945884456186,\n",
       "  'Less than $20,000': 0.5004469171667982,\n",
       "  '$100,000 or more': 0.0}}"
      ]
     },
     "execution_count": 11,
     "metadata": {},
     "output_type": "execute_result"
    }
   ],
   "source": [
    "# Score for Alpha\n",
    "brand_score[\"Bezt\"]"
   ]
  },
  {
   "cell_type": "markdown",
   "id": "185c5250",
   "metadata": {
    "id": "185c5250"
   },
   "source": [
    "## 4. WOOF function"
   ]
  },
  {
   "cell_type": "code",
   "execution_count": 69,
   "id": "923ab491",
   "metadata": {},
   "outputs": [],
   "source": [
    "#Ended up not using Nick's weight\n",
    "# weight = {'ad_exp': 0.004615311769551043,\n",
    "#           'age': 0.8243431825876556,\n",
    "#           'income': 0.17104150564279336}"
   ]
  },
  {
   "cell_type": "code",
   "execution_count": 66,
   "id": "5f43a607",
   "metadata": {
    "id": "5f43a607"
   },
   "outputs": [],
   "source": [
    "def WOOF(brand, customer_profile):\n",
    "    global brands\n",
    "    global weight_dict\n",
    "    global brand_score\n",
    "    \n",
    "    try: \n",
    "        selected_brand_score = brand_score[brand]\n",
    "    except:\n",
    "        print(\"Error! Brand not found\")\n",
    "    \n",
    "    # just need to access features stored in the brand_score\n",
    "    selected_features = list(brand_score[brands[5]].keys())\n",
    "    # slice the customer (1 row of) df\n",
    "    customer_profile = customer_profile[selected_features]\n",
    "    \n",
    "    score = 0\n",
    "    for feature in selected_features:\n",
    "                # access the weight from 2.) and scores the from selected brand \n",
    "        score += weight_dict[feature]*selected_brand_score[feature][customer_profile[feature][0]]\n",
    "        \n",
    "    return score\n",
    "    "
   ]
  },
  {
   "cell_type": "markdown",
   "id": "de957e10",
   "metadata": {
    "id": "de957e10"
   },
   "source": [
    "## 5. Business Application"
   ]
  },
  {
   "cell_type": "code",
   "execution_count": 67,
   "id": "724aee0b",
   "metadata": {
    "id": "724aee0b",
    "outputId": "728c3d1e-42a1-4183-bb2c-e55871cac582"
   },
   "outputs": [
    {
     "name": "stdout",
     "output_type": "stream",
     "text": [
      "(4679, 22)\n"
     ]
    },
    {
     "data": {
      "text/html": [
       "<div>\n",
       "<style scoped>\n",
       "    .dataframe tbody tr th:only-of-type {\n",
       "        vertical-align: middle;\n",
       "    }\n",
       "\n",
       "    .dataframe tbody tr th {\n",
       "        vertical-align: top;\n",
       "    }\n",
       "\n",
       "    .dataframe thead th {\n",
       "        text-align: right;\n",
       "    }\n",
       "</style>\n",
       "<table border=\"1\" class=\"dataframe\">\n",
       "  <thead>\n",
       "    <tr style=\"text-align: right;\">\n",
       "      <th></th>\n",
       "      <th>sale_id</th>\n",
       "      <th>sale_date</th>\n",
       "      <th>ad_exp</th>\n",
       "      <th>sns</th>\n",
       "      <th>product_id</th>\n",
       "      <th>product_brand</th>\n",
       "      <th>product_name</th>\n",
       "      <th>price</th>\n",
       "      <th>qty</th>\n",
       "      <th>customer_id</th>\n",
       "      <th>...</th>\n",
       "      <th>st</th>\n",
       "      <th>zip</th>\n",
       "      <th>lat</th>\n",
       "      <th>lng</th>\n",
       "      <th>marital</th>\n",
       "      <th>education</th>\n",
       "      <th>income</th>\n",
       "      <th>age</th>\n",
       "      <th>prime</th>\n",
       "      <th>total_amount</th>\n",
       "    </tr>\n",
       "  </thead>\n",
       "  <tbody>\n",
       "    <tr>\n",
       "      <th>0</th>\n",
       "      <td>1</td>\n",
       "      <td>2021-10-01</td>\n",
       "      <td>Don't recall seeing an ad</td>\n",
       "      <td>0</td>\n",
       "      <td>3</td>\n",
       "      <td>Alpha</td>\n",
       "      <td>Alpha Natural Sensitive Systems, Skin &amp; Coat S...</td>\n",
       "      <td>48.99</td>\n",
       "      <td>1</td>\n",
       "      <td>370</td>\n",
       "      <td>...</td>\n",
       "      <td>ID</td>\n",
       "      <td>83711</td>\n",
       "      <td>43.4599</td>\n",
       "      <td>-116.2440</td>\n",
       "      <td>Married</td>\n",
       "      <td>Some college or trade school</td>\n",
       "      <td>$80,000 - $99,999</td>\n",
       "      <td>55-64</td>\n",
       "      <td>0</td>\n",
       "      <td>48.99</td>\n",
       "    </tr>\n",
       "    <tr>\n",
       "      <th>1</th>\n",
       "      <td>2</td>\n",
       "      <td>2021-10-01</td>\n",
       "      <td>Don't recall seeing an ad</td>\n",
       "      <td>1</td>\n",
       "      <td>14</td>\n",
       "      <td>Arf</td>\n",
       "      <td>Arf Soft &amp; Tender American Jerky Dog Treats</td>\n",
       "      <td>11.52</td>\n",
       "      <td>1</td>\n",
       "      <td>625</td>\n",
       "      <td>...</td>\n",
       "      <td>NC</td>\n",
       "      <td>27710</td>\n",
       "      <td>36.0512</td>\n",
       "      <td>-78.8577</td>\n",
       "      <td>Married</td>\n",
       "      <td>High school graduate</td>\n",
       "      <td>$100,000 or more</td>\n",
       "      <td>45-54</td>\n",
       "      <td>1</td>\n",
       "      <td>11.52</td>\n",
       "    </tr>\n",
       "    <tr>\n",
       "      <th>2</th>\n",
       "      <td>3</td>\n",
       "      <td>2021-10-01</td>\n",
       "      <td>Don't recall seeing an ad</td>\n",
       "      <td>0</td>\n",
       "      <td>23</td>\n",
       "      <td>Bezt</td>\n",
       "      <td>Bezt Adult Chicken and Brown Rice Recipe Dry D...</td>\n",
       "      <td>14.22</td>\n",
       "      <td>1</td>\n",
       "      <td>905</td>\n",
       "      <td>...</td>\n",
       "      <td>AZ</td>\n",
       "      <td>85099</td>\n",
       "      <td>33.2765</td>\n",
       "      <td>-112.1872</td>\n",
       "      <td>Married</td>\n",
       "      <td>College graduate</td>\n",
       "      <td>$100,000 or more</td>\n",
       "      <td>45-54</td>\n",
       "      <td>1</td>\n",
       "      <td>14.22</td>\n",
       "    </tr>\n",
       "    <tr>\n",
       "      <th>3</th>\n",
       "      <td>4</td>\n",
       "      <td>2021-10-01</td>\n",
       "      <td>Don't recall seeing an ad</td>\n",
       "      <td>0</td>\n",
       "      <td>33</td>\n",
       "      <td>Alpha</td>\n",
       "      <td>Alpha Probiotics Shredded Blend High Protein, ...</td>\n",
       "      <td>79.31</td>\n",
       "      <td>1</td>\n",
       "      <td>1061</td>\n",
       "      <td>...</td>\n",
       "      <td>NH</td>\n",
       "      <td>214</td>\n",
       "      <td>43.0059</td>\n",
       "      <td>-71.0132</td>\n",
       "      <td>Married</td>\n",
       "      <td>Some college or trade school</td>\n",
       "      <td>$100,000 or more</td>\n",
       "      <td>55-64</td>\n",
       "      <td>1</td>\n",
       "      <td>79.31</td>\n",
       "    </tr>\n",
       "    <tr>\n",
       "      <th>4</th>\n",
       "      <td>5</td>\n",
       "      <td>2021-10-01</td>\n",
       "      <td>Don't recall seeing an ad</td>\n",
       "      <td>0</td>\n",
       "      <td>26</td>\n",
       "      <td>Alpha</td>\n",
       "      <td>Alpha Natural Adult Lamb &amp; Rice Dry Dog Food</td>\n",
       "      <td>25.16</td>\n",
       "      <td>1</td>\n",
       "      <td>1411</td>\n",
       "      <td>...</td>\n",
       "      <td>IL</td>\n",
       "      <td>60624</td>\n",
       "      <td>41.8804</td>\n",
       "      <td>-87.7223</td>\n",
       "      <td>Single</td>\n",
       "      <td>Some college or trade school</td>\n",
       "      <td>$40,000 - $59,999</td>\n",
       "      <td>25-34</td>\n",
       "      <td>1</td>\n",
       "      <td>25.16</td>\n",
       "    </tr>\n",
       "  </tbody>\n",
       "</table>\n",
       "<p>5 rows × 22 columns</p>\n",
       "</div>"
      ],
      "text/plain": [
       "   sale_id   sale_date                     ad_exp  sns  product_id  \\\n",
       "0        1  2021-10-01  Don't recall seeing an ad    0           3   \n",
       "1        2  2021-10-01  Don't recall seeing an ad    1          14   \n",
       "2        3  2021-10-01  Don't recall seeing an ad    0          23   \n",
       "3        4  2021-10-01  Don't recall seeing an ad    0          33   \n",
       "4        5  2021-10-01  Don't recall seeing an ad    0          26   \n",
       "\n",
       "  product_brand                                       product_name  price  \\\n",
       "0         Alpha  Alpha Natural Sensitive Systems, Skin & Coat S...  48.99   \n",
       "1           Arf        Arf Soft & Tender American Jerky Dog Treats  11.52   \n",
       "2          Bezt  Bezt Adult Chicken and Brown Rice Recipe Dry D...  14.22   \n",
       "3         Alpha  Alpha Probiotics Shredded Blend High Protein, ...  79.31   \n",
       "4         Alpha       Alpha Natural Adult Lamb & Rice Dry Dog Food  25.16   \n",
       "\n",
       "   qty  customer_id  ...  st    zip      lat       lng  marital  \\\n",
       "0    1          370  ...  ID  83711  43.4599 -116.2440  Married   \n",
       "1    1          625  ...  NC  27710  36.0512  -78.8577  Married   \n",
       "2    1          905  ...  AZ  85099  33.2765 -112.1872  Married   \n",
       "3    1         1061  ...  NH    214  43.0059  -71.0132  Married   \n",
       "4    1         1411  ...  IL  60624  41.8804  -87.7223   Single   \n",
       "\n",
       "                      education             income    age prime total_amount  \n",
       "0  Some college or trade school  $80,000 - $99,999  55-64     0        48.99  \n",
       "1          High school graduate   $100,000 or more  45-54     1        11.52  \n",
       "2              College graduate   $100,000 or more  45-54     1        14.22  \n",
       "3  Some college or trade school   $100,000 or more  55-64     1        79.31  \n",
       "4  Some college or trade school  $40,000 - $59,999  25-34     1        25.16  \n",
       "\n",
       "[5 rows x 22 columns]"
      ]
     },
     "execution_count": 67,
     "metadata": {},
     "output_type": "execute_result"
    }
   ],
   "source": [
    "# Customer profile \n",
    "cust_profile = df.drop_duplicates(\"customer_id\", keep = \"first\")\n",
    "# cust_profile = cust_profile[[\"customer_id\",'sns','ad_exp', 'gender', 'city', 'st',\n",
    "#        'zip', 'lat', 'lng', 'marital', 'education', 'income', 'age', 'prime']]\n",
    "print(cust_profile.shape)\n",
    "cust_profile.head()"
   ]
  },
  {
   "cell_type": "code",
   "execution_count": 68,
   "id": "60d47649",
   "metadata": {
    "id": "60d47649"
   },
   "outputs": [],
   "source": [
    "# Get top n customers for each brand \n",
    "def get_top_n(brand, n, show_score = False):\n",
    "    global cust_profile\n",
    "    scores = []\n",
    "    for idx in list(cust_profile[\"customer_id\"]):\n",
    "        scores.append(WOOF(brand, cust_profile[cust_profile[\"customer_id\"] == idx].reset_index(drop = True)))\n",
    "    scores = pd.DataFrame({\"customer_id\" :cust_profile[\"customer_id\"],\n",
    "                          \"scores\" : scores})\n",
    "    scores = scores.sort_values(\"scores\", ascending = False).reset_index(drop = True).iloc[:n,:]\n",
    "    \n",
    "    if show_score == False:\n",
    "        output = scores[\"customer_id\"].to_list()\n",
    "    else:\n",
    "        output = scores\n",
    "        \n",
    "    return output"
   ]
  },
  {
   "cell_type": "markdown",
   "id": "beaea4c7-7b5c-4c67-bafb-1e485e6d2922",
   "metadata": {},
   "source": [
    "# Alpha"
   ]
  },
  {
   "cell_type": "code",
   "execution_count": 118,
   "id": "081fab0b",
   "metadata": {},
   "outputs": [
    {
     "name": "stdout",
     "output_type": "stream",
     "text": [
      "Check the number of top 100 customers for Alpha: 100\n"
     ]
    }
   ],
   "source": [
    "# Calculate the mean of total amount for the top n\n",
    "brand = 'Alpha'\n",
    "n = 100\n",
    "top_n_cust_id = get_top_n(brand, n, show_score = True)['customer_id']\n",
    "top_n_cust = cust_profile[cust_profile['customer_id'].isin(top_n_cust_id)]\n",
    "print(f'Check the number of top {n} customers for {brand}: {len(top_n_cust)}')"
   ]
  },
  {
   "cell_type": "code",
   "execution_count": 119,
   "id": "6370b7a1",
   "metadata": {},
   "outputs": [
    {
     "name": "stdout",
     "output_type": "stream",
     "text": [
      "Mean of total amount for Alpha: 41.78\n"
     ]
    }
   ],
   "source": [
    "print(f'Mean of total amount for {brand}: {round(top_n_cust[\"total_amount\"].mean(),2)}')"
   ]
  },
  {
   "cell_type": "markdown",
   "id": "69a13442",
   "metadata": {},
   "source": [
    "Compare 43.31 with the mean calculated as follows"
   ]
  },
  {
   "cell_type": "markdown",
   "id": "e2782ea1",
   "metadata": {
    "id": "0444992b"
   },
   "source": [
    "## Randomly pick up n customers from a specific brand"
   ]
  },
  {
   "cell_type": "code",
   "execution_count": 98,
   "id": "4563e503",
   "metadata": {},
   "outputs": [],
   "source": [
    "import random"
   ]
  },
  {
   "cell_type": "markdown",
   "id": "d6f5f0cb",
   "metadata": {},
   "source": [
    "### From non-duplicated data"
   ]
  },
  {
   "cell_type": "markdown",
   "id": "aa507bb9",
   "metadata": {},
   "source": [
    "Just tried with cust_profile (non-duplicated data) but you can disregard it"
   ]
  },
  {
   "cell_type": "code",
   "execution_count": 99,
   "id": "efca4ae8",
   "metadata": {},
   "outputs": [
    {
     "name": "stdout",
     "output_type": "stream",
     "text": [
      "Num of unique customers for Alpha: 1528\n"
     ]
    }
   ],
   "source": [
    "brand_cust_id = cust_profile[cust_profile['product_brand'] == brand]['customer_id']\n",
    "print(f'Num of unique customers for {brand}: {len(brand_cust_id)}')"
   ]
  },
  {
   "cell_type": "code",
   "execution_count": 100,
   "id": "55e50878",
   "metadata": {},
   "outputs": [
    {
     "name": "stdout",
     "output_type": "stream",
     "text": [
      "Check the number of selected customers for Alpha: 100\n"
     ]
    }
   ],
   "source": [
    "random.seed(123)\n",
    "n_brand_cust_id = random.sample(list(brand_cust_id), n)\n",
    "n_brand_cust = cust_profile[cust_profile['customer_id'].isin(n_brand_cust_id)]\n",
    "print(f'Check the number of selected customers for {brand}: {len(n_brand_cust)}')"
   ]
  },
  {
   "cell_type": "code",
   "execution_count": 101,
   "id": "81acfc2e",
   "metadata": {},
   "outputs": [
    {
     "name": "stdout",
     "output_type": "stream",
     "text": [
      "Mean of total amount for Alpha: 52.22\n"
     ]
    }
   ],
   "source": [
    "print(f'Mean of total amount for {brand}: {round(n_brand_cust[\"total_amount\"].mean(),2)}')"
   ]
  },
  {
   "cell_type": "markdown",
   "id": "1e815a12",
   "metadata": {},
   "source": [
    "### From original data"
   ]
  },
  {
   "cell_type": "markdown",
   "id": "711b8183",
   "metadata": {},
   "source": [
    "Select 300 \"unique\" customers from the brand but when calculating the mean, it will include several purchases made by the same customer."
   ]
  },
  {
   "cell_type": "code",
   "execution_count": 102,
   "id": "4b55dd27",
   "metadata": {},
   "outputs": [
    {
     "name": "stdout",
     "output_type": "stream",
     "text": [
      "Num of unique customers for Alpha: 2187\n"
     ]
    }
   ],
   "source": [
    "brand_cust_id = df[df['product_brand'] == brand]['customer_id'].unique()\n",
    "print(f'Num of unique customers for {brand}: {len(brand_cust_id)}')"
   ]
  },
  {
   "cell_type": "code",
   "execution_count": 103,
   "id": "92e93029",
   "metadata": {},
   "outputs": [
    {
     "name": "stdout",
     "output_type": "stream",
     "text": [
      "Check the number of selected customers for Alpha: 224\n"
     ]
    }
   ],
   "source": [
    "random.seed(123)\n",
    "n_brand_cust_id = random.sample(list(brand_cust_id), n)\n",
    "n_brand_cust = df[df['customer_id'].isin(n_brand_cust_id)]\n",
    "print(f'Check the number of selected customers for {brand}: {len(n_brand_cust)}')"
   ]
  },
  {
   "cell_type": "code",
   "execution_count": 104,
   "id": "442208b8",
   "metadata": {},
   "outputs": [
    {
     "name": "stdout",
     "output_type": "stream",
     "text": [
      "Mean of total amount for Alpha: 44.13\n"
     ]
    }
   ],
   "source": [
    "print(f'Mean of total amount for {brand}: {round(n_brand_cust[\"total_amount\"].mean(),2)}')"
   ]
  },
  {
   "cell_type": "markdown",
   "id": "d71fe725",
   "metadata": {},
   "source": [
    "## Randonly pick up n customers from the whole population"
   ]
  },
  {
   "cell_type": "markdown",
   "id": "2bf99b14",
   "metadata": {},
   "source": [
    "### From non-duplicated data"
   ]
  },
  {
   "cell_type": "markdown",
   "id": "bef537c9",
   "metadata": {},
   "source": [
    "You can also disregard this "
   ]
  },
  {
   "cell_type": "code",
   "execution_count": 120,
   "id": "0964c81b",
   "metadata": {},
   "outputs": [
    {
     "name": "stdout",
     "output_type": "stream",
     "text": [
      "Check the number of selected customers from the whole population: 100\n",
      "Mean of total amount: 48.1\n"
     ]
    }
   ],
   "source": [
    "random.seed(123)\n",
    "cust_id = list(cust_profile['customer_id'])\n",
    "n_cust_id = random.sample(cust_id, n)\n",
    "n_cust = cust_profile[cust_profile['customer_id'].isin(n_cust_id)]\n",
    "print(f'Check the number of selected customers from the whole population: {len(n_cust)}')\n",
    "print(f'Mean of total amount: {round(n_cust[\"total_amount\"].mean(),2)}')"
   ]
  },
  {
   "cell_type": "markdown",
   "id": "14a83d05",
   "metadata": {},
   "source": [
    "### From original data"
   ]
  },
  {
   "cell_type": "markdown",
   "id": "1c2ea39f",
   "metadata": {},
   "source": [
    "Select 300 \"unique\" customers from the whole customers but when calculating the mean, it will include several purchases made by the same customer."
   ]
  },
  {
   "cell_type": "code",
   "execution_count": 121,
   "id": "8d44e2f6",
   "metadata": {},
   "outputs": [
    {
     "name": "stdout",
     "output_type": "stream",
     "text": [
      "Check the number of selected customers from the whole population: 200\n",
      "Mean of total amount: 46.24\n"
     ]
    }
   ],
   "source": [
    "random.seed(123)\n",
    "cust_id = list(df['customer_id'].unique())\n",
    "n_cust_id = random.sample(cust_id, n)\n",
    "n_cust = df[df['customer_id'].isin(n_cust_id)]\n",
    "print(f'Check the number of selected customers from the whole population: {len(n_cust)}')\n",
    "print(f'Mean of total amount: {round(n_cust[\"total_amount\"].mean(),2)}')"
   ]
  },
  {
   "cell_type": "markdown",
   "id": "79cbb4ac",
   "metadata": {},
   "source": [
    "Since the mean for top 300 based on WOOF was 43.31, our function works better than random selection."
   ]
  },
  {
   "cell_type": "code",
   "execution_count": null,
   "id": "8aee8f3b-d9f2-4625-9d6a-096aa3fcc9dd",
   "metadata": {},
   "outputs": [],
   "source": []
  },
  {
   "cell_type": "code",
   "execution_count": null,
   "id": "e1ad3c89-c594-43a5-b821-ffdf99fc0e8f",
   "metadata": {},
   "outputs": [],
   "source": []
  },
  {
   "cell_type": "markdown",
   "id": "94c67939-1fe1-42bd-9cb2-0c220a0ed194",
   "metadata": {},
   "source": [
    "# Arf"
   ]
  },
  {
   "cell_type": "code",
   "execution_count": 115,
   "id": "69d9d1e3-2482-48ab-ab28-6ac63d74bacb",
   "metadata": {
    "tags": []
   },
   "outputs": [
    {
     "name": "stdout",
     "output_type": "stream",
     "text": [
      "Check the number of top 100 customers for Arf: 100\n"
     ]
    }
   ],
   "source": [
    "# Calculate the mean of total amount for the top n\n",
    "brand = 'Arf'\n",
    "n = 100\n",
    "top_n_cust_id = get_top_n(brand, n, show_score = True)['customer_id']\n",
    "top_n_cust = cust_profile[cust_profile['customer_id'].isin(top_n_cust_id)]\n",
    "print(f'Check the number of top {n} customers for {brand}: {len(top_n_cust)}')"
   ]
  },
  {
   "cell_type": "code",
   "execution_count": 86,
   "id": "6b06a6c9-e1c0-4b5d-b824-18d05026564f",
   "metadata": {},
   "outputs": [
    {
     "name": "stdout",
     "output_type": "stream",
     "text": [
      "Mean of total amount for Arf: 41.48\n"
     ]
    }
   ],
   "source": [
    "print(f'Mean of total amount for {brand}: {round(top_n_cust[\"total_amount\"].mean(),2)}')"
   ]
  },
  {
   "cell_type": "markdown",
   "id": "018ab92f-d58e-4d84-bcd1-0184a60b8ce7",
   "metadata": {
    "id": "0444992b"
   },
   "source": [
    "## Randomly pick up n customers from a specific brand"
   ]
  },
  {
   "cell_type": "code",
   "execution_count": 87,
   "id": "914ef5fa-280f-4534-8a4c-20c44a810a02",
   "metadata": {},
   "outputs": [],
   "source": [
    "import random"
   ]
  },
  {
   "cell_type": "markdown",
   "id": "fb2fbbeb-675d-4577-a327-f73266d0ef66",
   "metadata": {},
   "source": [
    "### From non-duplicated data"
   ]
  },
  {
   "cell_type": "markdown",
   "id": "b37e1536-00ac-4733-a99b-1f86d84be386",
   "metadata": {},
   "source": [
    "Just tried with cust_profile (non-duplicated data) but you can disregard it"
   ]
  },
  {
   "cell_type": "code",
   "execution_count": 88,
   "id": "b145a261-598b-46e4-b94a-3b8166520b2d",
   "metadata": {},
   "outputs": [
    {
     "name": "stdout",
     "output_type": "stream",
     "text": [
      "Num of unique customers for Arf: 467\n"
     ]
    }
   ],
   "source": [
    "brand_cust_id = cust_profile[cust_profile['product_brand'] == brand]['customer_id']\n",
    "print(f'Num of unique customers for {brand}: {len(brand_cust_id)}')"
   ]
  },
  {
   "cell_type": "code",
   "execution_count": 89,
   "id": "2cc38150-9748-4954-a022-d4f79f5a8431",
   "metadata": {},
   "outputs": [
    {
     "name": "stdout",
     "output_type": "stream",
     "text": [
      "Check the number of selected customers for Arf: 100\n"
     ]
    }
   ],
   "source": [
    "random.seed(123)\n",
    "n_brand_cust_id = random.sample(list(brand_cust_id), n)\n",
    "n_brand_cust = cust_profile[cust_profile['customer_id'].isin(n_brand_cust_id)]\n",
    "print(f'Check the number of selected customers for {brand}: {len(n_brand_cust)}')"
   ]
  },
  {
   "cell_type": "code",
   "execution_count": 90,
   "id": "da11a80a-b946-4040-b3f5-645c0147cf95",
   "metadata": {},
   "outputs": [
    {
     "name": "stdout",
     "output_type": "stream",
     "text": [
      "Mean of total amount for Arf: 27.53\n"
     ]
    }
   ],
   "source": [
    "print(f'Mean of total amount for {brand}: {round(n_brand_cust[\"total_amount\"].mean(),2)}')"
   ]
  },
  {
   "cell_type": "markdown",
   "id": "495c37fa-0a56-41b8-8de0-3a4ea83fb56b",
   "metadata": {},
   "source": [
    "### From original data"
   ]
  },
  {
   "cell_type": "markdown",
   "id": "920748f7-b658-41c6-b767-ab88d973d1a0",
   "metadata": {},
   "source": [
    "Select 300 \"unique\" customers from the brand but when calculating the mean, it will include several purchases made by the same customer."
   ]
  },
  {
   "cell_type": "code",
   "execution_count": 91,
   "id": "f3d22b91-f3a0-4422-bea2-4aae0c276859",
   "metadata": {},
   "outputs": [
    {
     "name": "stdout",
     "output_type": "stream",
     "text": [
      "Num of unique customers for Arf: 809\n"
     ]
    }
   ],
   "source": [
    "brand_cust_id = df[df['product_brand'] == brand]['customer_id'].unique()\n",
    "print(f'Num of unique customers for {brand}: {len(brand_cust_id)}')"
   ]
  },
  {
   "cell_type": "code",
   "execution_count": 92,
   "id": "44527b4a-4e41-4b99-9c34-49e40ded0ae4",
   "metadata": {},
   "outputs": [
    {
     "name": "stdout",
     "output_type": "stream",
     "text": [
      "Check the number of selected customers for Arf: 216\n"
     ]
    }
   ],
   "source": [
    "random.seed(123)\n",
    "n_brand_cust_id = random.sample(list(brand_cust_id), n)\n",
    "n_brand_cust = df[df['customer_id'].isin(n_brand_cust_id)]\n",
    "print(f'Check the number of selected customers for {brand}: {len(n_brand_cust)}')"
   ]
  },
  {
   "cell_type": "code",
   "execution_count": 93,
   "id": "a721df1f-74dc-4f01-9394-6dd455222c63",
   "metadata": {},
   "outputs": [
    {
     "name": "stdout",
     "output_type": "stream",
     "text": [
      "Mean of total amount for Arf: 33.38\n"
     ]
    }
   ],
   "source": [
    "print(f'Mean of total amount for {brand}: {round(n_brand_cust[\"total_amount\"].mean(),2)}')"
   ]
  },
  {
   "cell_type": "markdown",
   "id": "e963015e-6605-43fa-8c94-02b0d692188a",
   "metadata": {},
   "source": [
    "## Randonly pick up n customers from the whole population"
   ]
  },
  {
   "cell_type": "markdown",
   "id": "6790ee60-a02d-4ca9-b733-f81d876fac09",
   "metadata": {},
   "source": [
    "### From non-duplicated data"
   ]
  },
  {
   "cell_type": "markdown",
   "id": "a0dd04ff-fde8-419f-a809-f2158e3d55af",
   "metadata": {},
   "source": [
    "You can also disregard this "
   ]
  },
  {
   "cell_type": "code",
   "execution_count": 116,
   "id": "bd85855f-576c-484e-bcf7-359ec6af0d0e",
   "metadata": {},
   "outputs": [
    {
     "name": "stdout",
     "output_type": "stream",
     "text": [
      "Check the number of selected customers from the whole population: 100\n",
      "Mean of total amount: 48.1\n"
     ]
    }
   ],
   "source": [
    "random.seed(123)\n",
    "cust_id = list(cust_profile['customer_id'])\n",
    "n_cust_id = random.sample(cust_id, n)\n",
    "n_cust = cust_profile[cust_profile['customer_id'].isin(n_cust_id)]\n",
    "print(f'Check the number of selected customers from the whole population: {len(n_cust)}')\n",
    "print(f'Mean of total amount: {round(n_cust[\"total_amount\"].mean(),2)}')"
   ]
  },
  {
   "cell_type": "markdown",
   "id": "1e7d65de-5503-4941-be2f-8816ecdf6587",
   "metadata": {},
   "source": [
    "### From original data"
   ]
  },
  {
   "cell_type": "markdown",
   "id": "099e9371-4167-4b8a-b1cd-cc5e02287a2c",
   "metadata": {},
   "source": [
    "Select 300 \"unique\" customers from the whole customers but when calculating the mean, it will include several purchases made by the same customer."
   ]
  },
  {
   "cell_type": "code",
   "execution_count": 117,
   "id": "200e2e80-1310-4665-beaa-19dfdb15a4e6",
   "metadata": {},
   "outputs": [
    {
     "name": "stdout",
     "output_type": "stream",
     "text": [
      "Check the number of selected customers from the whole population: 200\n",
      "Mean of total amount: 46.24\n"
     ]
    }
   ],
   "source": [
    "random.seed(123)\n",
    "cust_id = list(df['customer_id'].unique())\n",
    "n_cust_id = random.sample(cust_id, n)\n",
    "n_cust = df[df['customer_id'].isin(n_cust_id)]\n",
    "print(f'Check the number of selected customers from the whole population: {len(n_cust)}')\n",
    "print(f'Mean of total amount: {round(n_cust[\"total_amount\"].mean(),2)}')"
   ]
  },
  {
   "cell_type": "markdown",
   "id": "2e095ba9-2163-4ff3-b5d3-c1d9a458cff2",
   "metadata": {},
   "source": [
    "Since the mean for top 300 based on WOOF was 43.31, our function works better than random selection."
   ]
  },
  {
   "cell_type": "markdown",
   "id": "5c5d9c59-f8ef-41e5-aa6a-0b679d350a90",
   "metadata": {},
   "source": [
    "# Bezt"
   ]
  },
  {
   "cell_type": "code",
   "execution_count": 122,
   "id": "09dba319-bc99-458d-872a-0bdd098e45c8",
   "metadata": {},
   "outputs": [
    {
     "name": "stdout",
     "output_type": "stream",
     "text": [
      "Check the number of top 100 customers for Bezt: 100\n"
     ]
    }
   ],
   "source": [
    "# Calculate the mean of total amount for the top n\n",
    "brand = 'Bezt'\n",
    "n = 100\n",
    "top_n_cust_id = get_top_n(brand, n, show_score = True)['customer_id']\n",
    "top_n_cust = cust_profile[cust_profile['customer_id'].isin(top_n_cust_id)]\n",
    "print(f'Check the number of top {n} customers for {brand}: {len(top_n_cust)}')"
   ]
  },
  {
   "cell_type": "code",
   "execution_count": 123,
   "id": "9f133164-e8af-4bb3-a3fa-4267babf8f50",
   "metadata": {},
   "outputs": [
    {
     "name": "stdout",
     "output_type": "stream",
     "text": [
      "Mean of total amount for Bezt: 47.18\n"
     ]
    }
   ],
   "source": [
    "print(f'Mean of total amount for {brand}: {round(top_n_cust[\"total_amount\"].mean(),2)}')"
   ]
  },
  {
   "cell_type": "markdown",
   "id": "2eab6ec3-12f5-4603-819f-44724834654a",
   "metadata": {},
   "source": [
    "Compare 43.31 with the mean calculated as follows"
   ]
  },
  {
   "cell_type": "markdown",
   "id": "7c7f819b-813e-41a8-8bff-255d840b4380",
   "metadata": {
    "id": "0444992b"
   },
   "source": [
    "## Randomly pick up n customers from a specific brand"
   ]
  },
  {
   "cell_type": "code",
   "execution_count": 124,
   "id": "ec1bf505-79b2-4fd3-a3ee-217a91ce2e07",
   "metadata": {},
   "outputs": [],
   "source": [
    "import random"
   ]
  },
  {
   "cell_type": "markdown",
   "id": "10da5364-2a2f-4b14-8bc2-22ee700f6275",
   "metadata": {},
   "source": [
    "### From non-duplicated data"
   ]
  },
  {
   "cell_type": "markdown",
   "id": "e2ce6e20-82c4-4a11-b2ed-d93269cef2a9",
   "metadata": {},
   "source": [
    "Just tried with cust_profile (non-duplicated data) but you can disregard it"
   ]
  },
  {
   "cell_type": "code",
   "execution_count": 125,
   "id": "ec6812be-4824-4585-af7f-26344f8a5d76",
   "metadata": {},
   "outputs": [
    {
     "name": "stdout",
     "output_type": "stream",
     "text": [
      "Num of unique customers for Bezt: 770\n"
     ]
    }
   ],
   "source": [
    "brand_cust_id = cust_profile[cust_profile['product_brand'] == brand]['customer_id']\n",
    "print(f'Num of unique customers for {brand}: {len(brand_cust_id)}')"
   ]
  },
  {
   "cell_type": "code",
   "execution_count": 126,
   "id": "f5242507-2db6-4cdc-a827-0024db35846f",
   "metadata": {},
   "outputs": [
    {
     "name": "stdout",
     "output_type": "stream",
     "text": [
      "Check the number of selected customers for Bezt: 100\n"
     ]
    }
   ],
   "source": [
    "random.seed(123)\n",
    "n_brand_cust_id = random.sample(list(brand_cust_id), n)\n",
    "n_brand_cust = cust_profile[cust_profile['customer_id'].isin(n_brand_cust_id)]\n",
    "print(f'Check the number of selected customers for {brand}: {len(n_brand_cust)}')"
   ]
  },
  {
   "cell_type": "code",
   "execution_count": 127,
   "id": "f1a342a8-b3c7-4bf8-bac0-dfc05e98201e",
   "metadata": {},
   "outputs": [
    {
     "name": "stdout",
     "output_type": "stream",
     "text": [
      "Mean of total amount for Bezt: 37.63\n"
     ]
    }
   ],
   "source": [
    "print(f'Mean of total amount for {brand}: {round(n_brand_cust[\"total_amount\"].mean(),2)}')"
   ]
  },
  {
   "cell_type": "markdown",
   "id": "39b951a6-73f8-4476-b37b-9467f25bec99",
   "metadata": {},
   "source": [
    "### From original data"
   ]
  },
  {
   "cell_type": "markdown",
   "id": "4cfcf2ae-a21f-4493-a011-ed73f935c483",
   "metadata": {},
   "source": [
    "Select 300 \"unique\" customers from the brand but when calculating the mean, it will include several purchases made by the same customer."
   ]
  },
  {
   "cell_type": "code",
   "execution_count": 128,
   "id": "d9b7adea-e805-40f8-b343-d3e8c216134e",
   "metadata": {},
   "outputs": [
    {
     "name": "stdout",
     "output_type": "stream",
     "text": [
      "Num of unique customers for Bezt: 1309\n"
     ]
    }
   ],
   "source": [
    "brand_cust_id = df[df['product_brand'] == brand]['customer_id'].unique()\n",
    "print(f'Num of unique customers for {brand}: {len(brand_cust_id)}')"
   ]
  },
  {
   "cell_type": "code",
   "execution_count": 129,
   "id": "c7e0a8ec-7143-4939-b69a-fe0376e912e5",
   "metadata": {},
   "outputs": [
    {
     "name": "stdout",
     "output_type": "stream",
     "text": [
      "Check the number of selected customers for Bezt: 242\n"
     ]
    }
   ],
   "source": [
    "random.seed(123)\n",
    "n_brand_cust_id = random.sample(list(brand_cust_id), n)\n",
    "n_brand_cust = df[df['customer_id'].isin(n_brand_cust_id)]\n",
    "print(f'Check the number of selected customers for {brand}: {len(n_brand_cust)}')"
   ]
  },
  {
   "cell_type": "code",
   "execution_count": 130,
   "id": "5dae4ea3-5580-4bec-adb4-d12998e7ea62",
   "metadata": {},
   "outputs": [
    {
     "name": "stdout",
     "output_type": "stream",
     "text": [
      "Mean of total amount for Bezt: 43.7\n"
     ]
    }
   ],
   "source": [
    "print(f'Mean of total amount for {brand}: {round(n_brand_cust[\"total_amount\"].mean(),2)}')"
   ]
  },
  {
   "cell_type": "markdown",
   "id": "3f21bfe4-a83f-421a-bc62-faa36e92ffc9",
   "metadata": {},
   "source": [
    "## Randonly pick up n customers from the whole population"
   ]
  },
  {
   "cell_type": "markdown",
   "id": "6123e9a5-6297-4b98-8786-43de7d99a9ca",
   "metadata": {},
   "source": [
    "### From non-duplicated data"
   ]
  },
  {
   "cell_type": "markdown",
   "id": "8c82b805-0061-4675-9fb5-ca5097623b7c",
   "metadata": {},
   "source": [
    "You can also disregard this "
   ]
  },
  {
   "cell_type": "code",
   "execution_count": 52,
   "id": "7252041d-7650-439e-95e5-202921da2e88",
   "metadata": {},
   "outputs": [
    {
     "name": "stdout",
     "output_type": "stream",
     "text": [
      "Check the number of selected customers from the whole population: 300\n",
      "Mean of total amount: 43.33\n"
     ]
    }
   ],
   "source": [
    "random.seed(123)\n",
    "cust_id = list(cust_profile['customer_id'])\n",
    "n_cust_id = random.sample(cust_id, n)\n",
    "n_cust = cust_profile[cust_profile['customer_id'].isin(n_cust_id)]\n",
    "print(f'Check the number of selected customers from the whole population: {len(n_cust)}')\n",
    "print(f'Mean of total amount: {round(n_cust[\"total_amount\"].mean(),2)}')"
   ]
  },
  {
   "cell_type": "markdown",
   "id": "b20c972e-e82a-4e58-9342-5b1e883fefd7",
   "metadata": {},
   "source": [
    "### From original data"
   ]
  },
  {
   "cell_type": "markdown",
   "id": "75787f97-1663-4b62-ad0d-4440e6b93eab",
   "metadata": {},
   "source": [
    "Select 300 \"unique\" customers from the whole customers but when calculating the mean, it will include several purchases made by the same customer."
   ]
  },
  {
   "cell_type": "code",
   "execution_count": 53,
   "id": "4751d02c-be07-4a09-b67a-61666ae0fa45",
   "metadata": {},
   "outputs": [
    {
     "name": "stdout",
     "output_type": "stream",
     "text": [
      "Check the number of selected customers from the whole population: 594\n",
      "Mean of total amount: 42.6\n"
     ]
    }
   ],
   "source": [
    "random.seed(123)\n",
    "cust_id = list(df['customer_id'].unique())\n",
    "n_cust_id = random.sample(cust_id, n)\n",
    "n_cust = df[df['customer_id'].isin(n_cust_id)]\n",
    "print(f'Check the number of selected customers from the whole population: {len(n_cust)}')\n",
    "print(f'Mean of total amount: {round(n_cust[\"total_amount\"].mean(),2)}')"
   ]
  },
  {
   "cell_type": "markdown",
   "id": "82c56f93-67eb-4bd9-a45a-2cd3ab5ba959",
   "metadata": {},
   "source": [
    "## Persona"
   ]
  },
  {
   "cell_type": "code",
   "execution_count": 12,
   "id": "fd29642a-14ca-418b-af3a-449e265c1e3a",
   "metadata": {},
   "outputs": [
    {
     "name": "stdout",
     "output_type": "stream",
     "text": [
      "Alpha existing customers has an average of total sales amount of:  43.288199999999925\n"
     ]
    }
   ],
   "source": [
    "# filter df to only Alpha\n",
    "\n",
    "df_alpha = df[df['product_brand'] == 'Bezt']\n",
    "\n",
    "# sample 300 Alpha existing customers\n",
    "df_alpha_sample = df_alpha.sample(n=300)\n",
    "df_alpha_sample = df_alpha_sample[['customer_id','ad_exp', 'age', 'income', 'total_amount']]\n",
    "\n",
    "# find mean of total_amount out of 300 randomly selected Alpha customers\n",
    "df_alpha_sample_mean = df_alpha_sample['total_amount'].mean()\n",
    "\n",
    "print('Alpha existing customers has an average of total sales amount of: ', df_alpha_sample_mean)"
   ]
  },
  {
   "cell_type": "code",
   "execution_count": null,
   "id": "04314c65-d744-418d-8363-9438b8f5a088",
   "metadata": {},
   "outputs": [],
   "source": []
  }
 ],
 "metadata": {
  "colab": {
   "collapsed_sections": [],
   "provenance": []
  },
  "kernelspec": {
   "display_name": "Python 3",
   "language": "python",
   "name": "python3"
  },
  "language_info": {
   "codemirror_mode": {
    "name": "ipython",
    "version": 3
   },
   "file_extension": ".py",
   "mimetype": "text/x-python",
   "name": "python",
   "nbconvert_exporter": "python",
   "pygments_lexer": "ipython3",
   "version": "3.8.8"
  }
 },
 "nbformat": 4,
 "nbformat_minor": 5
}
